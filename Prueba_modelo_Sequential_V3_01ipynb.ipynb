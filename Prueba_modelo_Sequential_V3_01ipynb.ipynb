{
  "nbformat": 4,
  "nbformat_minor": 0,
  "metadata": {
    "colab": {
      "provenance": [],
      "gpuType": "T4",
      "authorship_tag": "ABX9TyMLfgAwNoZbIPronIQ01iaV",
      "include_colab_link": true
    },
    "kernelspec": {
      "name": "python3",
      "display_name": "Python 3"
    },
    "language_info": {
      "name": "python"
    },
    "accelerator": "GPU"
  },
  "cells": [
    {
      "cell_type": "markdown",
      "metadata": {
        "id": "view-in-github",
        "colab_type": "text"
      },
      "source": [
        "<a href=\"https://colab.research.google.com/github/MFrogy24/Gantt-Chart/blob/main/Prueba_modelo_Sequential_V3_01ipynb.ipynb\" target=\"_parent\"><img src=\"https://colab.research.google.com/assets/colab-badge.svg\" alt=\"Open In Colab\"/></a>"
      ]
    },
    {
      "cell_type": "code",
      "execution_count": 1,
      "metadata": {
        "id": "k_EqW1ZCyYxv"
      },
      "outputs": [],
      "source": [
        "import tensorflow as tf\n",
        "from tensorflow.keras.preprocessing.image import ImageDataGenerator\n",
        "from keras.models import Sequential\n",
        "from keras.layers import Dense, Dropout, Activation, Flatten\n",
        "from keras.layers import Conv2D, MaxPooling2D\n",
        "from pathlib import Path\n",
        "import glob\n",
        "from google.colab import drive"
      ]
    },
    {
      "cell_type": "code",
      "source": [
        "drive.mount('\\content\\drive')"
      ],
      "metadata": {
        "colab": {
          "base_uri": "https://localhost:8080/",
          "height": 321
        },
        "id": "m1F65EZEgyMz",
        "outputId": "cb864c34-3faa-46ce-e3dc-ca264b052a27"
      },
      "execution_count": 2,
      "outputs": [
        {
          "output_type": "error",
          "ename": "KeyboardInterrupt",
          "evalue": "ignored",
          "traceback": [
            "\u001b[0;31m---------------------------------------------------------------------------\u001b[0m",
            "\u001b[0;31mKeyboardInterrupt\u001b[0m                         Traceback (most recent call last)",
            "\u001b[0;32m<ipython-input-2-b045c5882468>\u001b[0m in \u001b[0;36m<cell line: 1>\u001b[0;34m()\u001b[0m\n\u001b[0;32m----> 1\u001b[0;31m \u001b[0mdrive\u001b[0m\u001b[0;34m.\u001b[0m\u001b[0mmount\u001b[0m\u001b[0;34m(\u001b[0m\u001b[0;34m'\\content\\drive'\u001b[0m\u001b[0;34m)\u001b[0m\u001b[0;34m\u001b[0m\u001b[0;34m\u001b[0m\u001b[0m\n\u001b[0m",
            "\u001b[0;32m/usr/local/lib/python3.10/dist-packages/google/colab/drive.py\u001b[0m in \u001b[0;36mmount\u001b[0;34m(mountpoint, force_remount, timeout_ms, readonly)\u001b[0m\n\u001b[1;32m    101\u001b[0m \u001b[0;32mdef\u001b[0m \u001b[0mmount\u001b[0m\u001b[0;34m(\u001b[0m\u001b[0mmountpoint\u001b[0m\u001b[0;34m,\u001b[0m \u001b[0mforce_remount\u001b[0m\u001b[0;34m=\u001b[0m\u001b[0;32mFalse\u001b[0m\u001b[0;34m,\u001b[0m \u001b[0mtimeout_ms\u001b[0m\u001b[0;34m=\u001b[0m\u001b[0;36m120000\u001b[0m\u001b[0;34m,\u001b[0m \u001b[0mreadonly\u001b[0m\u001b[0;34m=\u001b[0m\u001b[0;32mFalse\u001b[0m\u001b[0;34m)\u001b[0m\u001b[0;34m:\u001b[0m\u001b[0;34m\u001b[0m\u001b[0;34m\u001b[0m\u001b[0m\n\u001b[1;32m    102\u001b[0m   \u001b[0;34m\"\"\"Mount your Google Drive at the specified mountpoint path.\"\"\"\u001b[0m\u001b[0;34m\u001b[0m\u001b[0;34m\u001b[0m\u001b[0m\n\u001b[0;32m--> 103\u001b[0;31m   return _mount(\n\u001b[0m\u001b[1;32m    104\u001b[0m       \u001b[0mmountpoint\u001b[0m\u001b[0;34m,\u001b[0m\u001b[0;34m\u001b[0m\u001b[0;34m\u001b[0m\u001b[0m\n\u001b[1;32m    105\u001b[0m       \u001b[0mforce_remount\u001b[0m\u001b[0;34m=\u001b[0m\u001b[0mforce_remount\u001b[0m\u001b[0;34m,\u001b[0m\u001b[0;34m\u001b[0m\u001b[0;34m\u001b[0m\u001b[0m\n",
            "\u001b[0;32m/usr/local/lib/python3.10/dist-packages/google/colab/drive.py\u001b[0m in \u001b[0;36m_mount\u001b[0;34m(mountpoint, force_remount, timeout_ms, ephemeral, readonly)\u001b[0m\n\u001b[1;32m    257\u001b[0m \u001b[0;34m\u001b[0m\u001b[0m\n\u001b[1;32m    258\u001b[0m   \u001b[0;32mwhile\u001b[0m \u001b[0;32mTrue\u001b[0m\u001b[0;34m:\u001b[0m\u001b[0;34m\u001b[0m\u001b[0;34m\u001b[0m\u001b[0m\n\u001b[0;32m--> 259\u001b[0;31m     case = d.expect([\n\u001b[0m\u001b[1;32m    260\u001b[0m         \u001b[0msuccess\u001b[0m\u001b[0;34m,\u001b[0m\u001b[0;34m\u001b[0m\u001b[0;34m\u001b[0m\u001b[0m\n\u001b[1;32m    261\u001b[0m         \u001b[0mprompt\u001b[0m\u001b[0;34m,\u001b[0m\u001b[0;34m\u001b[0m\u001b[0;34m\u001b[0m\u001b[0m\n",
            "\u001b[0;32m/usr/local/lib/python3.10/dist-packages/pexpect/spawnbase.py\u001b[0m in \u001b[0;36mexpect\u001b[0;34m(self, pattern, timeout, searchwindowsize, async_, **kw)\u001b[0m\n\u001b[1;32m    341\u001b[0m \u001b[0;34m\u001b[0m\u001b[0m\n\u001b[1;32m    342\u001b[0m         \u001b[0mcompiled_pattern_list\u001b[0m \u001b[0;34m=\u001b[0m \u001b[0mself\u001b[0m\u001b[0;34m.\u001b[0m\u001b[0mcompile_pattern_list\u001b[0m\u001b[0;34m(\u001b[0m\u001b[0mpattern\u001b[0m\u001b[0;34m)\u001b[0m\u001b[0;34m\u001b[0m\u001b[0;34m\u001b[0m\u001b[0m\n\u001b[0;32m--> 343\u001b[0;31m         return self.expect_list(compiled_pattern_list,\n\u001b[0m\u001b[1;32m    344\u001b[0m                 timeout, searchwindowsize, async_)\n\u001b[1;32m    345\u001b[0m \u001b[0;34m\u001b[0m\u001b[0m\n",
            "\u001b[0;32m/usr/local/lib/python3.10/dist-packages/pexpect/spawnbase.py\u001b[0m in \u001b[0;36mexpect_list\u001b[0;34m(self, pattern_list, timeout, searchwindowsize, async_, **kw)\u001b[0m\n\u001b[1;32m    370\u001b[0m             \u001b[0;32mreturn\u001b[0m \u001b[0mexpect_async\u001b[0m\u001b[0;34m(\u001b[0m\u001b[0mexp\u001b[0m\u001b[0;34m,\u001b[0m \u001b[0mtimeout\u001b[0m\u001b[0;34m)\u001b[0m\u001b[0;34m\u001b[0m\u001b[0;34m\u001b[0m\u001b[0m\n\u001b[1;32m    371\u001b[0m         \u001b[0;32melse\u001b[0m\u001b[0;34m:\u001b[0m\u001b[0;34m\u001b[0m\u001b[0;34m\u001b[0m\u001b[0m\n\u001b[0;32m--> 372\u001b[0;31m             \u001b[0;32mreturn\u001b[0m \u001b[0mexp\u001b[0m\u001b[0;34m.\u001b[0m\u001b[0mexpect_loop\u001b[0m\u001b[0;34m(\u001b[0m\u001b[0mtimeout\u001b[0m\u001b[0;34m)\u001b[0m\u001b[0;34m\u001b[0m\u001b[0;34m\u001b[0m\u001b[0m\n\u001b[0m\u001b[1;32m    373\u001b[0m \u001b[0;34m\u001b[0m\u001b[0m\n\u001b[1;32m    374\u001b[0m     def expect_exact(self, pattern_list, timeout=-1, searchwindowsize=-1,\n",
            "\u001b[0;32m/usr/local/lib/python3.10/dist-packages/pexpect/expect.py\u001b[0m in \u001b[0;36mexpect_loop\u001b[0;34m(self, timeout)\u001b[0m\n\u001b[1;32m    167\u001b[0m                     \u001b[0;32mreturn\u001b[0m \u001b[0mself\u001b[0m\u001b[0;34m.\u001b[0m\u001b[0mtimeout\u001b[0m\u001b[0;34m(\u001b[0m\u001b[0;34m)\u001b[0m\u001b[0;34m\u001b[0m\u001b[0;34m\u001b[0m\u001b[0m\n\u001b[1;32m    168\u001b[0m                 \u001b[0;31m# Still have time left, so read more data\u001b[0m\u001b[0;34m\u001b[0m\u001b[0;34m\u001b[0m\u001b[0m\n\u001b[0;32m--> 169\u001b[0;31m                 \u001b[0mincoming\u001b[0m \u001b[0;34m=\u001b[0m \u001b[0mspawn\u001b[0m\u001b[0;34m.\u001b[0m\u001b[0mread_nonblocking\u001b[0m\u001b[0;34m(\u001b[0m\u001b[0mspawn\u001b[0m\u001b[0;34m.\u001b[0m\u001b[0mmaxread\u001b[0m\u001b[0;34m,\u001b[0m \u001b[0mtimeout\u001b[0m\u001b[0;34m)\u001b[0m\u001b[0;34m\u001b[0m\u001b[0;34m\u001b[0m\u001b[0m\n\u001b[0m\u001b[1;32m    170\u001b[0m                 \u001b[0;32mif\u001b[0m \u001b[0mself\u001b[0m\u001b[0;34m.\u001b[0m\u001b[0mspawn\u001b[0m\u001b[0;34m.\u001b[0m\u001b[0mdelayafterread\u001b[0m \u001b[0;32mis\u001b[0m \u001b[0;32mnot\u001b[0m \u001b[0;32mNone\u001b[0m\u001b[0;34m:\u001b[0m\u001b[0;34m\u001b[0m\u001b[0;34m\u001b[0m\u001b[0m\n\u001b[1;32m    171\u001b[0m                     \u001b[0mtime\u001b[0m\u001b[0;34m.\u001b[0m\u001b[0msleep\u001b[0m\u001b[0;34m(\u001b[0m\u001b[0mself\u001b[0m\u001b[0;34m.\u001b[0m\u001b[0mspawn\u001b[0m\u001b[0;34m.\u001b[0m\u001b[0mdelayafterread\u001b[0m\u001b[0;34m)\u001b[0m\u001b[0;34m\u001b[0m\u001b[0;34m\u001b[0m\u001b[0m\n",
            "\u001b[0;32m/usr/local/lib/python3.10/dist-packages/pexpect/popen_spawn.py\u001b[0m in \u001b[0;36mread_nonblocking\u001b[0;34m(self, size, timeout)\u001b[0m\n\u001b[1;32m     83\u001b[0m         \u001b[0;32mwhile\u001b[0m \u001b[0;34m(\u001b[0m\u001b[0mtime\u001b[0m\u001b[0;34m.\u001b[0m\u001b[0mtime\u001b[0m\u001b[0;34m(\u001b[0m\u001b[0;34m)\u001b[0m \u001b[0;34m-\u001b[0m \u001b[0mt0\u001b[0m\u001b[0;34m)\u001b[0m \u001b[0;34m<\u001b[0m \u001b[0mtimeout\u001b[0m \u001b[0;32mand\u001b[0m \u001b[0msize\u001b[0m \u001b[0;32mand\u001b[0m \u001b[0mlen\u001b[0m\u001b[0;34m(\u001b[0m\u001b[0mbuf\u001b[0m\u001b[0;34m)\u001b[0m \u001b[0;34m<\u001b[0m \u001b[0msize\u001b[0m\u001b[0;34m:\u001b[0m\u001b[0;34m\u001b[0m\u001b[0;34m\u001b[0m\u001b[0m\n\u001b[1;32m     84\u001b[0m             \u001b[0;32mtry\u001b[0m\u001b[0;34m:\u001b[0m\u001b[0;34m\u001b[0m\u001b[0;34m\u001b[0m\u001b[0m\n\u001b[0;32m---> 85\u001b[0;31m                 \u001b[0mincoming\u001b[0m \u001b[0;34m=\u001b[0m \u001b[0mself\u001b[0m\u001b[0;34m.\u001b[0m\u001b[0m_read_queue\u001b[0m\u001b[0;34m.\u001b[0m\u001b[0mget_nowait\u001b[0m\u001b[0;34m(\u001b[0m\u001b[0;34m)\u001b[0m\u001b[0;34m\u001b[0m\u001b[0;34m\u001b[0m\u001b[0m\n\u001b[0m\u001b[1;32m     86\u001b[0m             \u001b[0;32mexcept\u001b[0m \u001b[0mEmpty\u001b[0m\u001b[0;34m:\u001b[0m\u001b[0;34m\u001b[0m\u001b[0;34m\u001b[0m\u001b[0m\n\u001b[1;32m     87\u001b[0m                 \u001b[0;32mbreak\u001b[0m\u001b[0;34m\u001b[0m\u001b[0;34m\u001b[0m\u001b[0m\n",
            "\u001b[0;32m/usr/lib/python3.10/queue.py\u001b[0m in \u001b[0;36mget_nowait\u001b[0;34m(self)\u001b[0m\n\u001b[1;32m    197\u001b[0m         \u001b[0;32mraise\u001b[0m \u001b[0mthe\u001b[0m \u001b[0mEmpty\u001b[0m \u001b[0mexception\u001b[0m\u001b[0;34m.\u001b[0m\u001b[0;34m\u001b[0m\u001b[0;34m\u001b[0m\u001b[0m\n\u001b[1;32m    198\u001b[0m         '''\n\u001b[0;32m--> 199\u001b[0;31m         \u001b[0;32mreturn\u001b[0m \u001b[0mself\u001b[0m\u001b[0;34m.\u001b[0m\u001b[0mget\u001b[0m\u001b[0;34m(\u001b[0m\u001b[0mblock\u001b[0m\u001b[0;34m=\u001b[0m\u001b[0;32mFalse\u001b[0m\u001b[0;34m)\u001b[0m\u001b[0;34m\u001b[0m\u001b[0;34m\u001b[0m\u001b[0m\n\u001b[0m\u001b[1;32m    200\u001b[0m \u001b[0;34m\u001b[0m\u001b[0m\n\u001b[1;32m    201\u001b[0m     \u001b[0;31m# Override these methods to implement other queue organizations\u001b[0m\u001b[0;34m\u001b[0m\u001b[0;34m\u001b[0m\u001b[0m\n",
            "\u001b[0;32m/usr/lib/python3.10/queue.py\u001b[0m in \u001b[0;36mget\u001b[0;34m(self, block, timeout)\u001b[0m\n\u001b[1;32m    163\u001b[0m         in that case).\n\u001b[1;32m    164\u001b[0m         '''\n\u001b[0;32m--> 165\u001b[0;31m         \u001b[0;32mwith\u001b[0m \u001b[0mself\u001b[0m\u001b[0;34m.\u001b[0m\u001b[0mnot_empty\u001b[0m\u001b[0;34m:\u001b[0m\u001b[0;34m\u001b[0m\u001b[0;34m\u001b[0m\u001b[0m\n\u001b[0m\u001b[1;32m    166\u001b[0m             \u001b[0;32mif\u001b[0m \u001b[0;32mnot\u001b[0m \u001b[0mblock\u001b[0m\u001b[0;34m:\u001b[0m\u001b[0;34m\u001b[0m\u001b[0;34m\u001b[0m\u001b[0m\n\u001b[1;32m    167\u001b[0m                 \u001b[0;32mif\u001b[0m \u001b[0;32mnot\u001b[0m \u001b[0mself\u001b[0m\u001b[0;34m.\u001b[0m\u001b[0m_qsize\u001b[0m\u001b[0;34m(\u001b[0m\u001b[0;34m)\u001b[0m\u001b[0;34m:\u001b[0m\u001b[0;34m\u001b[0m\u001b[0;34m\u001b[0m\u001b[0m\n",
            "\u001b[0;32m/usr/lib/python3.10/threading.py\u001b[0m in \u001b[0;36m__enter__\u001b[0;34m(self)\u001b[0m\n\u001b[1;32m    263\u001b[0m \u001b[0;34m\u001b[0m\u001b[0m\n\u001b[1;32m    264\u001b[0m     \u001b[0;32mdef\u001b[0m \u001b[0m__enter__\u001b[0m\u001b[0;34m(\u001b[0m\u001b[0mself\u001b[0m\u001b[0;34m)\u001b[0m\u001b[0;34m:\u001b[0m\u001b[0;34m\u001b[0m\u001b[0;34m\u001b[0m\u001b[0m\n\u001b[0;32m--> 265\u001b[0;31m         \u001b[0;32mreturn\u001b[0m \u001b[0mself\u001b[0m\u001b[0;34m.\u001b[0m\u001b[0m_lock\u001b[0m\u001b[0;34m.\u001b[0m\u001b[0m__enter__\u001b[0m\u001b[0;34m(\u001b[0m\u001b[0;34m)\u001b[0m\u001b[0;34m\u001b[0m\u001b[0;34m\u001b[0m\u001b[0m\n\u001b[0m\u001b[1;32m    266\u001b[0m \u001b[0;34m\u001b[0m\u001b[0m\n\u001b[1;32m    267\u001b[0m     \u001b[0;32mdef\u001b[0m \u001b[0m__exit__\u001b[0m\u001b[0;34m(\u001b[0m\u001b[0mself\u001b[0m\u001b[0;34m,\u001b[0m \u001b[0;34m*\u001b[0m\u001b[0margs\u001b[0m\u001b[0;34m)\u001b[0m\u001b[0;34m:\u001b[0m\u001b[0;34m\u001b[0m\u001b[0;34m\u001b[0m\u001b[0m\n",
            "\u001b[0;31mKeyboardInterrupt\u001b[0m: "
          ]
        }
      ]
    },
    {
      "cell_type": "code",
      "source": [
        "# Define the paths to the subdirectories\n",
        "directory_path = '/content/contentdrive/MyDrive/Data-gray-aug/Data'  # Replace with the actual path to your \"data\" directory\n",
        "subdirectory_1 = 'Siren'\n",
        "subdirectory_2 = 'NoSiren'\n",
        "\n",
        "directory_path_test = '/content/contentdrive/MyDrive/Data-gray-aug/Data-Test'  # Replace with the actual path to your \"data\" directory"
      ],
      "metadata": {
        "id": "CjDMP0wyzaPU"
      },
      "execution_count": 3,
      "outputs": []
    },
    {
      "cell_type": "code",
      "source": [
        "AUTOTUNE = tf.data.AUTOTUNE\n",
        "\n",
        "dataset = tf.keras.utils.image_dataset_from_directory(directory_path,\n",
        "                                                      labels='inferred',\n",
        "                                                      label_mode = 'binary',\n",
        "                                                      color_mode= 'grayscale',\n",
        "                                                      batch_size=16,\n",
        "                                                      image_size=(49,49),).repeat()\n",
        "\n",
        "dataset = dataset.prefetch(buffer_size=AUTOTUNE)\n",
        "#GTC\n",
        "dataset = dataset.map(lambda x,y: (tf.image.grayscale_to_rgb(x),y), num_parallel_calls=AUTOTUNE)\n",
        "dataset = dataset.map(lambda x,y: (tf.image.random_flip_left_right(x), y), num_parallel_calls=AUTOTUNE)\n",
        "#dataset = dataset.map(lambda x,y: (tf.keras.preprocessing.image.random_shift(x, hrg=0, wrg=0.1,  fill_mode='reflect',), y), num_parallel_calls=AUTOTUNE)\n",
        "dataset = dataset.map(lambda x,y: (tf.image.rgb_to_grayscale(x),y), num_parallel_calls=AUTOTUNE)\n",
        "dataset = dataset.map(lambda x,y: (tf.keras.layers.experimental.preprocessing.Rescaling(1./255)(x),y), num_parallel_calls=AUTOTUNE)"
      ],
      "metadata": {
        "id": "DTTHrBFizc3y",
        "colab": {
          "base_uri": "https://localhost:8080/"
        },
        "outputId": "4bbcb173-29e8-4fa6-db46-81c4200bd405"
      },
      "execution_count": 4,
      "outputs": [
        {
          "output_type": "stream",
          "name": "stdout",
          "text": [
            "Found 1118 files belonging to 2 classes.\n"
          ]
        }
      ]
    },
    {
      "cell_type": "code",
      "source": [
        "dataset_test = tf.keras.utils.image_dataset_from_directory(directory_path_test,\n",
        "                                                      labels='inferred',\n",
        "                                                      label_mode = 'binary',\n",
        "                                                      color_mode= 'grayscale',\n",
        "                                                      batch_size=16,\n",
        "                                                      image_size=(49,49),).repeat()\n",
        "\n",
        "dataset_test = dataset_test.prefetch(buffer_size=AUTOTUNE)\n",
        "dataset_test = dataset_test.map(lambda x,y: (tf.keras.layers.experimental.preprocessing.Rescaling(1./255)(x),y), num_parallel_calls=AUTOTUNE)"
      ],
      "metadata": {
        "colab": {
          "base_uri": "https://localhost:8080/"
        },
        "id": "Nb83FQL9HQzj",
        "outputId": "1ca87028-e18a-471c-f71e-f10df0af4add"
      },
      "execution_count": 5,
      "outputs": [
        {
          "output_type": "stream",
          "name": "stdout",
          "text": [
            "Found 100 files belonging to 2 classes.\n"
          ]
        }
      ]
    },
    {
      "cell_type": "markdown",
      "source": [
        "Modelo\n"
      ],
      "metadata": {
        "id": "SRIxg0AEz-V3"
      }
    },
    {
      "cell_type": "code",
      "source": [
        "model = Sequential()\n",
        "\n",
        "model.add(Conv2D(filters        = 64,\n",
        "                 kernel_size    = (3, 3),\n",
        "                 padding        = 'same',\n",
        "                 activation     = 'relu',\n",
        "                 input_shape    = (49,49,1)))\n",
        "model.add(Conv2D(filters        = 64,\n",
        "                 kernel_size    = (3, 3),\n",
        "                 activation     = 'relu'))\n",
        "model.add(MaxPooling2D(pool_size= (2, 2)))\n",
        "model.add(Dropout(0.25))\n",
        "\n",
        "model.add(Conv2D(filters        = 64,\n",
        "                 kernel_size    = (3, 3),\n",
        "                 padding        = 'same',\n",
        "                 activation     = 'relu'))\n",
        "model.add(Conv2D(filters        = 64,\n",
        "                 kernel_size    = (3, 3),\n",
        "                 activation     = 'relu'))\n",
        "model.add(MaxPooling2D(pool_size= (2, 2)))\n",
        "model.add(Dropout(0.25))\n",
        "\n",
        "model.add(Flatten())\n",
        "#model.add(Dense(units=64, activation= 'relu'))\n",
        "model.add(Dense(units=32, activation= 'relu'))\n",
        "model.add(Dropout(0.25))\n",
        "model.add(Dense(units=1, activation= 'sigmoid'))\n",
        "\n",
        "model.summary()"
      ],
      "metadata": {
        "id": "EkH3cF6xz_Zt",
        "colab": {
          "base_uri": "https://localhost:8080/"
        },
        "outputId": "e993e3f4-4e6e-43d6-89d1-00eaa762f18e"
      },
      "execution_count": 6,
      "outputs": [
        {
          "output_type": "stream",
          "name": "stdout",
          "text": [
            "Model: \"sequential\"\n",
            "_________________________________________________________________\n",
            " Layer (type)                Output Shape              Param #   \n",
            "=================================================================\n",
            " conv2d (Conv2D)             (None, 49, 49, 64)        640       \n",
            "                                                                 \n",
            " conv2d_1 (Conv2D)           (None, 47, 47, 64)        36928     \n",
            "                                                                 \n",
            " max_pooling2d (MaxPooling2  (None, 23, 23, 64)        0         \n",
            " D)                                                              \n",
            "                                                                 \n",
            " dropout (Dropout)           (None, 23, 23, 64)        0         \n",
            "                                                                 \n",
            " conv2d_2 (Conv2D)           (None, 23, 23, 64)        36928     \n",
            "                                                                 \n",
            " conv2d_3 (Conv2D)           (None, 21, 21, 64)        36928     \n",
            "                                                                 \n",
            " max_pooling2d_1 (MaxPoolin  (None, 10, 10, 64)        0         \n",
            " g2D)                                                            \n",
            "                                                                 \n",
            " dropout_1 (Dropout)         (None, 10, 10, 64)        0         \n",
            "                                                                 \n",
            " flatten (Flatten)           (None, 6400)              0         \n",
            "                                                                 \n",
            " dense (Dense)               (None, 32)                204832    \n",
            "                                                                 \n",
            " dropout_2 (Dropout)         (None, 32)                0         \n",
            "                                                                 \n",
            " dense_1 (Dense)             (None, 1)                 33        \n",
            "                                                                 \n",
            "=================================================================\n",
            "Total params: 316289 (1.21 MB)\n",
            "Trainable params: 316289 (1.21 MB)\n",
            "Non-trainable params: 0 (0.00 Byte)\n",
            "_________________________________________________________________\n"
          ]
        }
      ]
    },
    {
      "cell_type": "markdown",
      "source": [
        "Training"
      ],
      "metadata": {
        "id": "GXLurs8l0ajR"
      }
    },
    {
      "cell_type": "code",
      "source": [
        "# Compile and train the model\n",
        "model.compile(optimizer = 'adam',\n",
        "              loss      = 'binary_crossentropy',\n",
        "              metrics   = ['accuracy'])"
      ],
      "metadata": {
        "id": "pGP5u9Ng0YLM"
      },
      "execution_count": 7,
      "outputs": []
    },
    {
      "cell_type": "code",
      "source": [
        "callback =  tf.keras.callbacks.ModelCheckpoint(\n",
        "              filepath= 'bestModel',\n",
        "              monitor = 'accuracy',\n",
        "              save_best_only = True,\n",
        "          )"
      ],
      "metadata": {
        "id": "txS3FjnVqZzX"
      },
      "execution_count": 8,
      "outputs": []
    },
    {
      "cell_type": "code",
      "source": [
        "BATCH_SIZE      = 16\n",
        "EPOCHS          = 20\n",
        "INITIAL_EPOCH   = 0\n",
        "steps_per_epoch = 1118//BATCH_SIZE\n",
        "validation_steps = 100//BATCH_SIZE"
      ],
      "metadata": {
        "id": "pbz2GTqR0cQi"
      },
      "execution_count": 9,
      "outputs": []
    },
    {
      "cell_type": "code",
      "source": [
        "model.fit(dataset,\n",
        "          batch_size       = BATCH_SIZE,\n",
        "          epochs           = EPOCHS,\n",
        "          callbacks        = [callback],\n",
        "          initial_epoch    = INITIAL_EPOCH,\n",
        "          steps_per_epoch  = steps_per_epoch,\n",
        "          verbose          = 2,\n",
        "          validation_data  = dataset_test,\n",
        "          validation_steps = validation_steps)"
      ],
      "metadata": {
        "id": "xNUtTx_-0d0w",
        "colab": {
          "base_uri": "https://localhost:8080/"
        },
        "outputId": "df6baa1c-74d4-4f81-e7ee-42569dfeff54"
      },
      "execution_count": 10,
      "outputs": [
        {
          "output_type": "stream",
          "name": "stdout",
          "text": [
            "Epoch 1/20\n",
            "69/69 - 183s - loss: 0.5474 - accuracy: 0.6839 - val_loss: 0.3130 - val_accuracy: 0.8750 - 183s/epoch - 3s/step\n",
            "Epoch 2/20\n",
            "69/69 - 3s - loss: 0.1966 - accuracy: 0.9338 - val_loss: 0.2104 - val_accuracy: 0.9271 - 3s/epoch - 39ms/step\n",
            "Epoch 3/20\n",
            "69/69 - 3s - loss: 0.1213 - accuracy: 0.9510 - val_loss: 0.1220 - val_accuracy: 0.9688 - 3s/epoch - 40ms/step\n",
            "Epoch 4/20\n",
            "69/69 - 3s - loss: 0.0926 - accuracy: 0.9655 - val_loss: 0.0989 - val_accuracy: 0.9583 - 3s/epoch - 43ms/step\n",
            "Epoch 5/20\n",
            "69/69 - 2s - loss: 0.0546 - accuracy: 0.9819 - val_loss: 0.1030 - val_accuracy: 0.9688 - 2s/epoch - 31ms/step\n",
            "Epoch 6/20\n",
            "69/69 - 2s - loss: 0.0506 - accuracy: 0.9846 - val_loss: 0.0584 - val_accuracy: 0.9896 - 2s/epoch - 35ms/step\n",
            "Epoch 7/20\n",
            "69/69 - 2s - loss: 0.0252 - accuracy: 0.9927 - val_loss: 0.0338 - val_accuracy: 0.9896 - 2s/epoch - 30ms/step\n",
            "Epoch 8/20\n",
            "69/69 - 1s - loss: 0.0253 - accuracy: 0.9918 - val_loss: 0.1059 - val_accuracy: 0.9479 - 960ms/epoch - 14ms/step\n",
            "Epoch 9/20\n",
            "69/69 - 1s - loss: 0.0585 - accuracy: 0.9773 - val_loss: 0.0411 - val_accuracy: 0.9896 - 996ms/epoch - 14ms/step\n",
            "Epoch 10/20\n",
            "69/69 - 3s - loss: 0.0127 - accuracy: 0.9964 - val_loss: 0.0234 - val_accuracy: 0.9896 - 3s/epoch - 47ms/step\n",
            "Epoch 11/20\n",
            "69/69 - 1s - loss: 0.0155 - accuracy: 0.9936 - val_loss: 0.0154 - val_accuracy: 0.9896 - 1s/epoch - 16ms/step\n",
            "Epoch 12/20\n",
            "69/69 - 2s - loss: 0.0058 - accuracy: 0.9982 - val_loss: 0.0246 - val_accuracy: 0.9792 - 2s/epoch - 31ms/step\n",
            "Epoch 13/20\n",
            "69/69 - 2s - loss: 0.0029 - accuracy: 0.9991 - val_loss: 0.0110 - val_accuracy: 0.9896 - 2s/epoch - 29ms/step\n",
            "Epoch 14/20\n",
            "69/69 - 1s - loss: 0.0132 - accuracy: 0.9964 - val_loss: 0.0218 - val_accuracy: 0.9792 - 1s/epoch - 15ms/step\n",
            "Epoch 15/20\n",
            "69/69 - 1s - loss: 0.0146 - accuracy: 0.9936 - val_loss: 0.0172 - val_accuracy: 1.0000 - 836ms/epoch - 12ms/step\n",
            "Epoch 16/20\n",
            "69/69 - 1s - loss: 0.0133 - accuracy: 0.9964 - val_loss: 0.1276 - val_accuracy: 0.9688 - 822ms/epoch - 12ms/step\n",
            "Epoch 17/20\n",
            "69/69 - 1s - loss: 0.0067 - accuracy: 0.9973 - val_loss: 0.0072 - val_accuracy: 1.0000 - 1s/epoch - 16ms/step\n",
            "Epoch 18/20\n",
            "69/69 - 1s - loss: 0.0380 - accuracy: 0.9855 - val_loss: 0.0147 - val_accuracy: 0.9896 - 901ms/epoch - 13ms/step\n",
            "Epoch 19/20\n",
            "69/69 - 2s - loss: 0.0134 - accuracy: 0.9936 - val_loss: 0.0095 - val_accuracy: 0.9896 - 2s/epoch - 23ms/step\n",
            "Epoch 20/20\n",
            "69/69 - 2s - loss: 0.0074 - accuracy: 0.9964 - val_loss: 0.0040 - val_accuracy: 1.0000 - 2s/epoch - 22ms/step\n"
          ]
        },
        {
          "output_type": "execute_result",
          "data": {
            "text/plain": [
              "<keras.src.callbacks.History at 0x78a62c6f9000>"
            ]
          },
          "metadata": {},
          "execution_count": 10
        }
      ]
    },
    {
      "cell_type": "code",
      "source": [
        "model.save('final_model_v3_final')"
      ],
      "metadata": {
        "id": "1XqmwJ4j07TJ"
      },
      "execution_count": 11,
      "outputs": []
    }
  ]
}